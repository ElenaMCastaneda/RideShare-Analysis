{
 "cells": [
  {
   "cell_type": "code",
   "execution_count": 89,
   "metadata": {},
   "outputs": [],
   "source": [
    "%matplotlib inline\n",
    "# Dependencies and Setup\n",
    "import matplotlib.pyplot as plt\n",
    "import pandas as pd\n",
    "import numpy as np\n",
    "\n",
    "\n",
    "# File to Load (Remember to change these)\n",
    "city_data_to_load = \"data/city_data.csv\"\n",
    "ride_data_to_load = \"data/ride_data.csv\"\n"
   ]
  },
  {
   "cell_type": "code",
   "execution_count": 90,
   "metadata": {
    "scrolled": true
   },
   "outputs": [
    {
     "data": {
      "text/html": [
       "<div>\n",
       "<style scoped>\n",
       "    .dataframe tbody tr th:only-of-type {\n",
       "        vertical-align: middle;\n",
       "    }\n",
       "\n",
       "    .dataframe tbody tr th {\n",
       "        vertical-align: top;\n",
       "    }\n",
       "\n",
       "    .dataframe thead th {\n",
       "        text-align: right;\n",
       "    }\n",
       "</style>\n",
       "<table border=\"1\" class=\"dataframe\">\n",
       "  <thead>\n",
       "    <tr style=\"text-align: right;\">\n",
       "      <th></th>\n",
       "      <th>city</th>\n",
       "      <th>driver_count</th>\n",
       "      <th>type</th>\n",
       "    </tr>\n",
       "  </thead>\n",
       "  <tbody>\n",
       "    <tr>\n",
       "      <th>0</th>\n",
       "      <td>Richardfort</td>\n",
       "      <td>38</td>\n",
       "      <td>Urban</td>\n",
       "    </tr>\n",
       "    <tr>\n",
       "      <th>1</th>\n",
       "      <td>Williamsstad</td>\n",
       "      <td>59</td>\n",
       "      <td>Urban</td>\n",
       "    </tr>\n",
       "    <tr>\n",
       "      <th>2</th>\n",
       "      <td>Port Angela</td>\n",
       "      <td>67</td>\n",
       "      <td>Urban</td>\n",
       "    </tr>\n",
       "    <tr>\n",
       "      <th>3</th>\n",
       "      <td>Rodneyfort</td>\n",
       "      <td>34</td>\n",
       "      <td>Urban</td>\n",
       "    </tr>\n",
       "    <tr>\n",
       "      <th>4</th>\n",
       "      <td>West Robert</td>\n",
       "      <td>39</td>\n",
       "      <td>Urban</td>\n",
       "    </tr>\n",
       "  </tbody>\n",
       "</table>\n",
       "</div>"
      ],
      "text/plain": [
       "           city  driver_count   type\n",
       "0   Richardfort            38  Urban\n",
       "1  Williamsstad            59  Urban\n",
       "2   Port Angela            67  Urban\n",
       "3    Rodneyfort            34  Urban\n",
       "4   West Robert            39  Urban"
      ]
     },
     "execution_count": 90,
     "metadata": {},
     "output_type": "execute_result"
    }
   ],
   "source": [
    "# Read the City Data\n",
    "city_data=pd.read_csv(city_data_to_load)\n",
    "city_data.head()"
   ]
  },
  {
   "cell_type": "code",
   "execution_count": 91,
   "metadata": {},
   "outputs": [
    {
     "data": {
      "text/html": [
       "<div>\n",
       "<style scoped>\n",
       "    .dataframe tbody tr th:only-of-type {\n",
       "        vertical-align: middle;\n",
       "    }\n",
       "\n",
       "    .dataframe tbody tr th {\n",
       "        vertical-align: top;\n",
       "    }\n",
       "\n",
       "    .dataframe thead th {\n",
       "        text-align: right;\n",
       "    }\n",
       "</style>\n",
       "<table border=\"1\" class=\"dataframe\">\n",
       "  <thead>\n",
       "    <tr style=\"text-align: right;\">\n",
       "      <th></th>\n",
       "      <th>city</th>\n",
       "      <th>date</th>\n",
       "      <th>fare</th>\n",
       "      <th>ride_id</th>\n",
       "    </tr>\n",
       "  </thead>\n",
       "  <tbody>\n",
       "    <tr>\n",
       "      <th>0</th>\n",
       "      <td>Lake Jonathanshire</td>\n",
       "      <td>2018-01-14 10:14:22</td>\n",
       "      <td>13.83</td>\n",
       "      <td>5739410935873</td>\n",
       "    </tr>\n",
       "    <tr>\n",
       "      <th>1</th>\n",
       "      <td>South Michelleport</td>\n",
       "      <td>2018-03-04 18:24:09</td>\n",
       "      <td>30.24</td>\n",
       "      <td>2343912425577</td>\n",
       "    </tr>\n",
       "    <tr>\n",
       "      <th>2</th>\n",
       "      <td>Port Samanthamouth</td>\n",
       "      <td>2018-02-24 04:29:00</td>\n",
       "      <td>33.44</td>\n",
       "      <td>2005065760003</td>\n",
       "    </tr>\n",
       "    <tr>\n",
       "      <th>3</th>\n",
       "      <td>Rodneyfort</td>\n",
       "      <td>2018-02-10 23:22:03</td>\n",
       "      <td>23.44</td>\n",
       "      <td>5149245426178</td>\n",
       "    </tr>\n",
       "    <tr>\n",
       "      <th>4</th>\n",
       "      <td>South Jack</td>\n",
       "      <td>2018-03-06 04:28:35</td>\n",
       "      <td>34.58</td>\n",
       "      <td>3908451377344</td>\n",
       "    </tr>\n",
       "  </tbody>\n",
       "</table>\n",
       "</div>"
      ],
      "text/plain": [
       "                 city                 date   fare        ride_id\n",
       "0  Lake Jonathanshire  2018-01-14 10:14:22  13.83  5739410935873\n",
       "1  South Michelleport  2018-03-04 18:24:09  30.24  2343912425577\n",
       "2  Port Samanthamouth  2018-02-24 04:29:00  33.44  2005065760003\n",
       "3          Rodneyfort  2018-02-10 23:22:03  23.44  5149245426178\n",
       "4          South Jack  2018-03-06 04:28:35  34.58  3908451377344"
      ]
     },
     "execution_count": 91,
     "metadata": {},
     "output_type": "execute_result"
    }
   ],
   "source": [
    "# Read the Ride Data\n",
    "ride_data=pd.read_csv(ride_data_to_load)\n",
    "ride_data.head()"
   ]
  },
  {
   "cell_type": "code",
   "execution_count": 92,
   "metadata": {},
   "outputs": [],
   "source": [
    "# Combine the data into a single dataset\n",
    "pyber_data = ride_data.reset_index().merge(city_data, on = 'city', how='inner').set_index('index')\n"
   ]
  },
  {
   "cell_type": "code",
   "execution_count": 93,
   "metadata": {},
   "outputs": [
    {
     "data": {
      "text/html": [
       "<div>\n",
       "<style scoped>\n",
       "    .dataframe tbody tr th:only-of-type {\n",
       "        vertical-align: middle;\n",
       "    }\n",
       "\n",
       "    .dataframe tbody tr th {\n",
       "        vertical-align: top;\n",
       "    }\n",
       "\n",
       "    .dataframe thead th {\n",
       "        text-align: right;\n",
       "    }\n",
       "</style>\n",
       "<table border=\"1\" class=\"dataframe\">\n",
       "  <thead>\n",
       "    <tr style=\"text-align: right;\">\n",
       "      <th></th>\n",
       "      <th>city</th>\n",
       "      <th>date</th>\n",
       "      <th>fare</th>\n",
       "      <th>ride_id</th>\n",
       "      <th>driver_count</th>\n",
       "      <th>type</th>\n",
       "    </tr>\n",
       "    <tr>\n",
       "      <th>index</th>\n",
       "      <th></th>\n",
       "      <th></th>\n",
       "      <th></th>\n",
       "      <th></th>\n",
       "      <th></th>\n",
       "      <th></th>\n",
       "    </tr>\n",
       "  </thead>\n",
       "  <tbody>\n",
       "    <tr>\n",
       "      <th>0</th>\n",
       "      <td>Lake Jonathanshire</td>\n",
       "      <td>2018-01-14 10:14:22</td>\n",
       "      <td>13.83</td>\n",
       "      <td>5739410935873</td>\n",
       "      <td>5</td>\n",
       "      <td>Urban</td>\n",
       "    </tr>\n",
       "    <tr>\n",
       "      <th>1</th>\n",
       "      <td>South Michelleport</td>\n",
       "      <td>2018-03-04 18:24:09</td>\n",
       "      <td>30.24</td>\n",
       "      <td>2343912425577</td>\n",
       "      <td>72</td>\n",
       "      <td>Urban</td>\n",
       "    </tr>\n",
       "    <tr>\n",
       "      <th>2</th>\n",
       "      <td>Port Samanthamouth</td>\n",
       "      <td>2018-02-24 04:29:00</td>\n",
       "      <td>33.44</td>\n",
       "      <td>2005065760003</td>\n",
       "      <td>57</td>\n",
       "      <td>Urban</td>\n",
       "    </tr>\n",
       "    <tr>\n",
       "      <th>3</th>\n",
       "      <td>Rodneyfort</td>\n",
       "      <td>2018-02-10 23:22:03</td>\n",
       "      <td>23.44</td>\n",
       "      <td>5149245426178</td>\n",
       "      <td>34</td>\n",
       "      <td>Urban</td>\n",
       "    </tr>\n",
       "    <tr>\n",
       "      <th>4</th>\n",
       "      <td>South Jack</td>\n",
       "      <td>2018-03-06 04:28:35</td>\n",
       "      <td>34.58</td>\n",
       "      <td>3908451377344</td>\n",
       "      <td>46</td>\n",
       "      <td>Urban</td>\n",
       "    </tr>\n",
       "    <tr>\n",
       "      <th>5</th>\n",
       "      <td>South Latoya</td>\n",
       "      <td>2018-03-11 12:26:48</td>\n",
       "      <td>9.52</td>\n",
       "      <td>1994999424437</td>\n",
       "      <td>10</td>\n",
       "      <td>Urban</td>\n",
       "    </tr>\n",
       "    <tr>\n",
       "      <th>6</th>\n",
       "      <td>New Paulville</td>\n",
       "      <td>2018-02-27 11:17:56</td>\n",
       "      <td>43.25</td>\n",
       "      <td>793208410091</td>\n",
       "      <td>44</td>\n",
       "      <td>Urban</td>\n",
       "    </tr>\n",
       "    <tr>\n",
       "      <th>7</th>\n",
       "      <td>Simpsonburgh</td>\n",
       "      <td>2018-04-26 00:43:24</td>\n",
       "      <td>35.98</td>\n",
       "      <td>111953927754</td>\n",
       "      <td>21</td>\n",
       "      <td>Urban</td>\n",
       "    </tr>\n",
       "    <tr>\n",
       "      <th>8</th>\n",
       "      <td>South Karenland</td>\n",
       "      <td>2018-01-08 03:28:48</td>\n",
       "      <td>35.09</td>\n",
       "      <td>7995623208694</td>\n",
       "      <td>4</td>\n",
       "      <td>Urban</td>\n",
       "    </tr>\n",
       "    <tr>\n",
       "      <th>9</th>\n",
       "      <td>North Jasmine</td>\n",
       "      <td>2018-03-09 06:26:29</td>\n",
       "      <td>42.81</td>\n",
       "      <td>5327642267789</td>\n",
       "      <td>33</td>\n",
       "      <td>Urban</td>\n",
       "    </tr>\n",
       "  </tbody>\n",
       "</table>\n",
       "</div>"
      ],
      "text/plain": [
       "                     city                 date   fare        ride_id  \\\n",
       "index                                                                  \n",
       "0      Lake Jonathanshire  2018-01-14 10:14:22  13.83  5739410935873   \n",
       "1      South Michelleport  2018-03-04 18:24:09  30.24  2343912425577   \n",
       "2      Port Samanthamouth  2018-02-24 04:29:00  33.44  2005065760003   \n",
       "3              Rodneyfort  2018-02-10 23:22:03  23.44  5149245426178   \n",
       "4              South Jack  2018-03-06 04:28:35  34.58  3908451377344   \n",
       "5            South Latoya  2018-03-11 12:26:48   9.52  1994999424437   \n",
       "6           New Paulville  2018-02-27 11:17:56  43.25   793208410091   \n",
       "7            Simpsonburgh  2018-04-26 00:43:24  35.98   111953927754   \n",
       "8         South Karenland  2018-01-08 03:28:48  35.09  7995623208694   \n",
       "9           North Jasmine  2018-03-09 06:26:29  42.81  5327642267789   \n",
       "\n",
       "       driver_count   type  \n",
       "index                       \n",
       "0                 5  Urban  \n",
       "1                72  Urban  \n",
       "2                57  Urban  \n",
       "3                34  Urban  \n",
       "4                46  Urban  \n",
       "5                10  Urban  \n",
       "6                44  Urban  \n",
       "7                21  Urban  \n",
       "8                 4  Urban  \n",
       "9                33  Urban  "
      ]
     },
     "execution_count": 93,
     "metadata": {},
     "output_type": "execute_result"
    }
   ],
   "source": [
    "# Display the data table for preview\n",
    "pyber_data.sort_index(inplace=True)\n",
    "pyber_data.head(10)\n",
    "#pyber_data.to_csv(\"data/pyber.csv\")"
   ]
  },
  {
   "cell_type": "code",
   "execution_count": 94,
   "metadata": {},
   "outputs": [
    {
     "data": {
      "text/plain": [
       "Index(['city', 'date', 'fare', 'ride_id', 'driver_count', 'type'], dtype='object')"
      ]
     },
     "execution_count": 94,
     "metadata": {},
     "output_type": "execute_result"
    }
   ],
   "source": [
    "pyber_data.columns\n"
   ]
  },
  {
   "cell_type": "markdown",
   "metadata": {},
   "source": [
    "## Bubble Plot of Ride Sharing Data"
   ]
  },
  {
   "cell_type": "code",
   "execution_count": 95,
   "metadata": {},
   "outputs": [
    {
     "name": "stdout",
     "output_type": "stream",
     "text": [
      "city\n",
      "Amandaburgh             18\n",
      "Barajasview             22\n",
      "Barronchester           16\n",
      "Bethanyland             18\n",
      "Bradshawfurt            10\n",
      "Brandonfort             19\n",
      "Carriemouth             27\n",
      "Christopherfurt         27\n",
      "Colemanland             22\n",
      "Davidfurt               17\n",
      "Deanville               19\n",
      "East Aaronbury           9\n",
      "East Danielview         17\n",
      "East Kaylahaven         29\n",
      "East Kentstad           13\n",
      "East Marymouth          27\n",
      "Erikaland               12\n",
      "Garzaport                3\n",
      "Grahamburgh             25\n",
      "Grayville               15\n",
      "Harringtonfort           6\n",
      "Huntermouth             24\n",
      "Hurleymouth             28\n",
      "Jerryton                25\n",
      "Jessicaport              6\n",
      "Johnton                 21\n",
      "Joneschester            25\n",
      "Josephside              27\n",
      "Justinberg              30\n",
      "Karenberg               17\n",
      "                        ..\n",
      "South Evanton           31\n",
      "South Jack              19\n",
      "South Jennifer           7\n",
      "South Karenland         38\n",
      "South Latoya            19\n",
      "South Marychester        8\n",
      "South Michelleport      31\n",
      "South Phillip           31\n",
      "South Saramouth          4\n",
      "South Teresa            22\n",
      "Taylorhaven              6\n",
      "Valentineton            22\n",
      "Veronicaberg            17\n",
      "Victoriaport            14\n",
      "West Angela             39\n",
      "West Anthony            30\n",
      "West Christopherberg    26\n",
      "West Ericstad           18\n",
      "West Gabriel            23\n",
      "West Hannah             21\n",
      "West Heather             9\n",
      "West Heidi              28\n",
      "West Josephberg         26\n",
      "West Kimmouth           20\n",
      "West Patrickchester     16\n",
      "West Robert             31\n",
      "West Samuelburgh        25\n",
      "Williamsonville         14\n",
      "Williamsstad            23\n",
      "Williamsview            20\n",
      "Name: ride_id, Length: 120, dtype: int64\n"
     ]
    }
   ],
   "source": [
    "# Obtain the x and y coordinates for each of the three city types\n",
    "avg_fare = pyber_data.groupby(\"city\")[\"fare\"].mean()\n",
    "#print(avg_fare)\n",
    "total_ride = pyber_data.groupby(\"city\")[\"ride_id\"].count()\n",
    "print(total_ride)\n",
    "total_drivers = pyber_data.groupby(\"city\")[\"driver_count\"].unique()\n",
    "#print(total_drivers)\n",
    "city_types1 = pyber_data.groupby(\"city\")[\"type\"].unique()\n",
    "#print(city_types1)\n",
    "\n",
    "#scoop_sze\n"
   ]
  },
  {
   "cell_type": "code",
   "execution_count": 81,
   "metadata": {},
   "outputs": [],
   "source": [
    "#header1 ={\"drivers\": total_drivers,\n",
    "          #\"rides\":total_ride,\n",
    "            #\"fare\":avg_fare,\n",
    "         #\"types\":city_types1}\n",
    "\n",
    "#ride_sharing_df = pd.DataFrame(header1)\n",
    "#ride_sharing_df['fare'] = ride_sharing_df.apply(lambda x: \"{:.2f}\".format(x['fare']), axis=1)\n",
    "#ride_sharing_df.head()"
   ]
  },
  {
   "cell_type": "code",
   "execution_count": 58,
   "metadata": {},
   "outputs": [],
   "source": [
    "#ride_sharing_df.columns\n",
    "#ride_sharing_df.type\n"
   ]
  },
  {
   "cell_type": "code",
   "execution_count": 114,
   "metadata": {},
   "outputs": [
    {
     "data": {
      "image/png": "[encoded data removed]",
      "text/plain": [
       "<Figure size 432x288 with 1 Axes>"
      ]
     },
     "metadata": {
      "needs_background": "light"
     },
     "output_type": "display_data"
    }
   ],
   "source": [
    "# Build the scatter plots for each city types\n",
    "plt.scatter(total_ride, avg_fare, marker=\"o\", color=\"red\",edgecolor =\"black\", alpha= 0.5)\n",
    "\n",
    "plt.ylim(18, 44)\n",
    "plt.xlim(2 , 42)\n",
    "# Incorporate the other graph properties\n",
    "plt.title(\"Pyber Ride Sharing Data (2016)\")\n",
    "plt.xlabel(\"Total Number of Rides (Per City)\")\n",
    "plt.ylabel(\"Average Fare ($)\")\n",
    "\n",
    "# Create a legend\n",
    "plt.legend(['City Types'])\n",
    "# Incorporate a text label regarding circle size\n",
    "\n",
    "# Save Figure\n",
    "plt.savefig(\"../Images/BubblePlot.png\")"
   ]
  },
  {
   "cell_type": "code",
   "execution_count": 115,
   "metadata": {},
   "outputs": [],
   "source": [
    "# Show plot\n",
    "plt.show()"
   ]
  },
  {
   "cell_type": "markdown",
   "metadata": {},
   "source": [
    "## Total Fares by City Type"
   ]
  },
  {
   "cell_type": "code",
   "execution_count": 121,
   "metadata": {},
   "outputs": [
    {
     "name": "stdout",
     "output_type": "stream",
     "text": [
      "['Urban' 'Suburban' 'Rural']\n",
      "63538.64\n",
      "type\n",
      "Rural        4327.93\n",
      "Suburban    19356.33\n",
      "Urban       39854.38\n",
      "Name: fare, dtype: float64\n",
      "type\n",
      "Rural        6.811493\n",
      "Suburban    30.463872\n",
      "Urban       62.724635\n",
      "Name: fare, dtype: float64\n"
     ]
    },
    {
     "data": {
      "text/html": [
       "<div>\n",
       "<style scoped>\n",
       "    .dataframe tbody tr th:only-of-type {\n",
       "        vertical-align: middle;\n",
       "    }\n",
       "\n",
       "    .dataframe tbody tr th {\n",
       "        vertical-align: top;\n",
       "    }\n",
       "\n",
       "    .dataframe thead th {\n",
       "        text-align: right;\n",
       "    }\n",
       "</style>\n",
       "<table border=\"1\" class=\"dataframe\">\n",
       "  <thead>\n",
       "    <tr style=\"text-align: right;\">\n",
       "      <th></th>\n",
       "      <th>fare</th>\n",
       "      <th>city_type</th>\n",
       "    </tr>\n",
       "    <tr>\n",
       "      <th>type</th>\n",
       "      <th></th>\n",
       "      <th></th>\n",
       "    </tr>\n",
       "  </thead>\n",
       "  <tbody>\n",
       "    <tr>\n",
       "      <th>Rural</th>\n",
       "      <td>6.8%</td>\n",
       "      <td>Urban</td>\n",
       "    </tr>\n",
       "    <tr>\n",
       "      <th>Suburban</th>\n",
       "      <td>30.5%</td>\n",
       "      <td>Suburban</td>\n",
       "    </tr>\n",
       "    <tr>\n",
       "      <th>Urban</th>\n",
       "      <td>62.7%</td>\n",
       "      <td>Rural</td>\n",
       "    </tr>\n",
       "  </tbody>\n",
       "</table>\n",
       "</div>"
      ],
      "text/plain": [
       "           fare city_type\n",
       "type                     \n",
       "Rural      6.8%     Urban\n",
       "Suburban  30.5%  Suburban\n",
       "Urban     62.7%     Rural"
      ]
     },
     "execution_count": 121,
     "metadata": {},
     "output_type": "execute_result"
    }
   ],
   "source": [
    "# Calculate Type Percents\n",
    "city_types=pyber_data[\"type\"].unique()\n",
    "print(city_types)\n",
    "\n",
    "total_fare = pyber_data[\"fare\"].sum()\n",
    "print(total_fare)\n",
    "\n",
    "fare_by_city = pyber_data.groupby(\"type\")[\"fare\"].sum()\n",
    "print(fare_by_city)\n",
    "\n",
    "pct_fare_by_city = (fare_by_city/total_fare) * 100\n",
    "pct_fare_by_city.astype(float)\n",
    "\n",
    "print(pct_fare_by_city)\n",
    "\n",
    "\n",
    "header2 ={\"fare\": pct_fare_by_city,\n",
    "            \"city_type\":city_types}\n",
    "\n",
    "city_fares_df = pd.DataFrame(header2)\n",
    "city_fares_df['fare'] = city_fares_df.apply(lambda x: \"{:.1f}%\".format(x['fare']), axis=1)\n",
    "city_fares_df.head()\n"
   ]
  },
  {
   "cell_type": "code",
   "execution_count": 122,
   "metadata": {},
   "outputs": [
    {
     "data": {
      "image/png": "[encoded data removed]",
      "text/plain": [
       "<Figure size 432x288 with 1 Axes>"
      ]
     },
     "metadata": {},
     "output_type": "display_data"
    },
    {
     "data": {
      "text/plain": [
       "<Figure size 432x288 with 0 Axes>"
      ]
     },
     "metadata": {},
     "output_type": "display_data"
    }
   ],
   "source": [
    "# Build Pie Chart\n",
    "labels = ['Urban','Rural','Suburban']\n",
    "fare = [62.7, 6.8, 30.5 ]\n",
    "colors = [\"coral\",\"gold\",\"skyblue\"]\n",
    "explode = (0.1, 0, 0)\n",
    "plt.pie(fare, explode=explode, labels=labels, colors=colors,\n",
    "        autopct=\"%1.1f%%\", shadow=True, startangle=280)    \n",
    "plt.title(\"% of Total Fares by City Type\")\n",
    "plt.axis(\"equal\")\n",
    "plt.savefig(\"../Images/TotalFares.png\")\n",
    "plt.show()\n",
    "plt.tight_layout()"
   ]
  },
  {
   "cell_type": "markdown",
   "metadata": {},
   "source": [
    "## Total Rides by City Type"
   ]
  },
  {
   "cell_type": "code",
   "execution_count": null,
   "metadata": {},
   "outputs": [],
   "source": [
    "# Calculate Ride Percents\n",
    "city_types=pyber_data[\"type\"].unique()\n",
    "print(city_types)\n",
    "\n",
    "total_ride = pyber_data[\"ride_id\"].count()\n",
    "print(total_ride)\n",
    "\n",
    "ride_by_city = pyber_data.groupby(\"type\")[\"ride_id\"].count()\n",
    "#print(fare_by_city)\n",
    "\n",
    "pct_ride_by_city = (ride_by_city/total_ride) * 100\n",
    "#pct_ride_by_city.astype(float)\n",
    "\n",
    "pct_ride_by_city.head()\n"
   ]
  },
  {
   "cell_type": "code",
   "execution_count": null,
   "metadata": {},
   "outputs": [],
   "source": [
    "# Build Pie Chart\n",
    "labels = ['Urban','Rural','Suburban']\n",
    "rides = [ 68.421053, 5.263158, 26.315789]\n",
    "colors = [\"coral\",\"gold\",\"skyblue\"]\n",
    "explode = (0.1, 0, 0)\n",
    "plt.pie(rides, explode=explode, labels=labels, colors=colors,\n",
    "        autopct=\"%1.1f%%\", shadow=True, startangle=280)    \n",
    "plt.title(\"% of Total Rides by City Type\")\n",
    "plt.axis(\"equal\")\n",
    "\n",
    "\n",
    "# Save Figure\n",
    "plt.savefig(\"../Images/TotalRides.png\")\n",
    "# Show Figure\n",
    "plt.show()\n",
    "plt.tight_layout()"
   ]
  },
  {
   "cell_type": "markdown",
   "metadata": {},
   "source": [
    "## Total Drivers by City Type"
   ]
  },
  {
   "cell_type": "code",
   "execution_count": 120,
   "metadata": {},
   "outputs": [
    {
     "name": "stdout",
     "output_type": "stream",
     "text": [
      "52\n",
      "type\n",
      "Rural        125\n",
      "Suburban     625\n",
      "Urban       1625\n",
      "Name: driver_count, dtype: int64\n"
     ]
    }
   ],
   "source": [
    "# Calculate Driver Percents\n",
    "total_driver = len(pyber_data['driver_count'].unique().tolist())\n",
    "print(total_driver)\n",
    "\n",
    "driver_by_city = pyber_data.groupby(\"type\")[\"driver_count\"].count()\n",
    "print(driver_by_city)\n",
    "\n",
    "#pct_driver_by_city = (ride_by_city/total_ride) * 100\n",
    "\n",
    "\n",
    "\n"
   ]
  },
  {
   "cell_type": "code",
   "execution_count": 113,
   "metadata": {
    "scrolled": true
   },
   "outputs": [
    {
     "data": {
      "image/png": "[encoded data removed]",
      "text/plain": [
       "<Figure size 432x288 with 1 Axes>"
      ]
     },
     "metadata": {},
     "output_type": "display_data"
    },
    {
     "data": {
      "text/plain": [
       "<Figure size 432x288 with 0 Axes>"
      ]
     },
     "metadata": {},
     "output_type": "display_data"
    }
   ],
   "source": [
    "# Build Pie Chart\n",
    "labels = ['Urban','Rural','Suburban']\n",
    "rides = [ 68.421053, 5.263158, 26.315789]\n",
    "colors = [\"coral\",\"gold\",\"skyblue\"]\n",
    "explode = (0.1, 0, 0)\n",
    "plt.pie(rides, explode=explode, labels=labels, colors=colors,\n",
    "        autopct=\"%1.1f%%\", shadow=True, startangle=280)    \n",
    "plt.title(\"% of Total Drivers by City Type\")\n",
    "plt.axis(\"equal\")\n",
    "\n",
    "\n",
    "# Save Figure\n",
    "plt.savefig(\"../Images/TotalDrivers.png\")\n",
    "# Show Figure\n",
    "plt.show()\n",
    "plt.tight_layout()"
   ]
  },
  {
   "cell_type": "code",
   "execution_count": null,
   "metadata": {},
   "outputs": [],
   "source": [
    "#OBSERVATIONS:\n",
    "#1. A majority of drivers and rides occur in the urban area\n",
    "#2. The more costly rides occur in rural areas. \n",
    "#3. Drivers that driving suburan and rural area on average make for money and with less competition than drivers in the urban areas"
   ]
  },
  {
   "cell_type": "code",
   "execution_count": null,
   "metadata": {},
   "outputs": [],
   "source": []
  }
 ],
 "metadata": {
  "anaconda-cloud": {},
  "kernelspec": {
   "display_name": "Python 3",
   "language": "python",
   "name": "python3"
  },
  "language_info": {
   "codemirror_mode": {
    "name": "ipython",
    "version": 3
   },
   "file_extension": ".py",
   "mimetype": "text/x-python",
   "name": "python",
   "nbconvert_exporter": "python",
   "pygments_lexer": "ipython3",
   "version": "3.7.3"
  }
 },
 "nbformat": 4,
 "nbformat_minor": 2
}
